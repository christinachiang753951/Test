{
 "cells": [
  {
   "cell_type": "markdown",
   "metadata": {},
   "source": [
    "# 1.選擇性敘述的練習-season\n",
    "輸入月份1~12月，判斷相對應的季節春、夏、秋、冬並印出。若不在此範圍則印出”輸入錯誤”"
   ]
  },
  {
   "cell_type": "code",
   "execution_count": 3,
   "metadata": {},
   "outputs": [
    {
     "name": "stdout",
     "output_type": "stream",
     "text": [
      "請輸入1~12月份:7\n",
      "秋\n"
     ]
    }
   ],
   "source": [
    "x = int(input('請輸入1~12月份:'))\n",
    "if 1 <= x <= 3:\n",
    "    print('春')\n",
    "elif 4 <= x <= 6:\n",
    "    print('夏')\n",
    "elif 7 <= x <= 9:\n",
    "    print('秋')\n",
    "elif 10 <= x <= 12:\n",
    "    print('冬')    \n",
    "else:\n",
    "    print('輸入錯誤') "
   ]
  },
  {
   "cell_type": "markdown",
   "metadata": {},
   "source": [
    "# 2. 選擇性敘述的練習-salary\n",
    "輸入便利商店工讀生的工作時數，並計算其薪資。<br>\n",
    "60小時以內，時薪120元。<br>\n",
    "61~80小時，以時薪1.25倍計算。<br>\n",
    "81小時以上，以時薪1.5倍計算。<br>\n",
    "說明：薪資以累計方式計算。若工時為90小時，則薪資為60x120 + 20x120x1.25 + 10x120x1.5元。"
   ]
  },
  {
   "cell_type": "code",
   "execution_count": 4,
   "metadata": {},
   "outputs": [
    {
     "name": "stdout",
     "output_type": "stream",
     "text": [
      "請輸入工作時數：70\n",
      "時薪8700元\n",
      "請輸入工作時數：60\n",
      "時薪7200元\n",
      "請輸入工作時數：-1\n"
     ]
    }
   ],
   "source": [
    "while True:\n",
    "    x = int(input('請輸入工作時數：'))\n",
    "    if 0 <= x <= 60:\n",
    "        y = 120*x  # y為總薪水\n",
    "        print('時薪'+'%d'%y +'元')\n",
    "    elif 61 <= x <= 80:\n",
    "        y = 120*60 + (x-60)*120*1.25\n",
    "        print('時薪'+'%d'%y +'元')\n",
    "    elif x == -1:\n",
    "        break # 跳出迴圈\n",
    "    else:\n",
    "        y = 120*60 + 20*120*1.25+ (x-80)*120*1.5\n",
    "        print('時薪'+'%d'%y +'元')"
   ]
  },
  {
   "cell_type": "markdown",
   "metadata": {},
   "source": [
    "# 3. 選擇性敘述的練習-electricity\n",
    "輸入何種用電和度數，計算出需繳之電費。<br>\n",
    "電力公司使用累計方式來計算電費，分工業用電及家庭用電。<br>\n",
    "  &nbsp; &nbsp;&nbsp;&nbsp;&nbsp;&nbsp;&nbsp;&nbsp;&nbsp;&nbsp;&nbsp;&nbsp;&nbsp;&nbsp;&nbsp;&nbsp;&nbsp; &nbsp;&nbsp;&nbsp;         家庭用電   &nbsp;     工業用電 <br>\n",
    "  240度(含)以下\t &nbsp;&nbsp; 0.15元\t&nbsp; \t   0.45元 <br>\n",
    "  240~540(含)度  &nbsp;   0.25元\t&nbsp;\t\t0.45元<br>\n",
    "  540度以上 &nbsp;&nbsp;&nbsp;&nbsp;&nbsp;&nbsp;   &nbsp;      0.45元\t&nbsp;\t\t0.45元<br>\n"
   ]
  },
  {
   "cell_type": "code",
   "execution_count": null,
   "metadata": {},
   "outputs": [
    {
     "name": "stdout",
     "output_type": "stream",
     "text": [
      "請輸入家庭用電 or 工業用電：家庭用電\n",
      "請輸入度數：540\n",
      "電費111.00元\n",
      "請輸入家庭用電 or 工業用電：工業用電\n",
      "請輸入度數：220\n",
      "電費99.00元\n"
     ]
    }
   ],
   "source": [
    "while True:\n",
    "    x = input('請輸入家庭用電 or 工業用電：')\n",
    "    if x == str(-1):\n",
    "        break\n",
    "    elif x != '家庭用電' and  x != '工業用電': \n",
    "        print('Oops！輸入錯誤')\n",
    "        continue\n",
    "    y = eval(input('請輸入度數：'))\n",
    "\n",
    "    if x == '家庭用電':\n",
    "        if 0 <= y <= 240:\n",
    "            z = y * 0.15\n",
    "            print('電費'+ format(z,'.2f') + '元')\n",
    "        elif 240 <= y <= 540:\n",
    "            z = 240 * 0.15 + (y-240)*0.25\n",
    "            print('電費'+ format(z,'.2f') + '元')\n",
    "        else:\n",
    "            z = 240 * 0.15 + 300*0.25 + (y-540)*0.45\n",
    "            print('電費'+ format(z,'.2f') + '元')    \n",
    "\n",
    "    elif x == '工業用電':\n",
    "        z = y * 0.45\n",
    "        print('電費'+ format(z,'.2f') + '元')"
   ]
  },
  {
   "cell_type": "markdown",
   "metadata": {},
   "source": [
    "# 4. 選擇性敘述的練習-leapYear\n",
    "輸入一西元年，如2015。判斷此年份是否為閏年。<br>\n",
    "提示：每四年一閏，每百年不閏，每四百年一閏，每四千年不閏。<br>"
   ]
  },
  {
   "cell_type": "code",
   "execution_count": 1,
   "metadata": {},
   "outputs": [
    {
     "name": "stdout",
     "output_type": "stream",
     "text": [
      "---------------------------------\n",
      "請輸入年份或輸入-1結束判斷：2100\n",
      "西元2100年不是閏年\n",
      "---------------------------------\n",
      "請輸入年份或輸入-1結束判斷：4000\n",
      "西元4000年不是閏年\n",
      "---------------------------------\n",
      "請輸入年份或輸入-1結束判斷：2000\n",
      "西元2000年為閏年\n",
      "---------------------------------\n",
      "請輸入年份或輸入-1結束判斷：1988\n",
      "西元1988年為閏年\n",
      "---------------------------------\n",
      "請輸入年份或輸入-1結束判斷：-1\n"
     ]
    }
   ],
   "source": [
    "while True:\n",
    "    print('---------------------------------')\n",
    "    x = int(input('請輸入年份或輸入-1結束判斷：'))\n",
    "    if x%4 == 0 and x%100 !=0:\n",
    "        print('西元{}年為閏年'.format(x))\n",
    "    elif x % 400 == 0 and x%4000 !=0:\n",
    "        print('西元{}年為閏年'.format(x))\n",
    "    elif x == -1:\n",
    "        break\n",
    "    else:\n",
    "        print('西元{}年不是閏年'.format(x))"
   ]
  },
  {
   "cell_type": "markdown",
   "metadata": {},
   "source": [
    "# 5. 選擇性敘述的練習-refund\n",
    "輸入在某商店購物應付金額與實付金額。<br>\n",
    "實付金額小於應付金額，則印出”金額不足”。<br>\n",
    "實付金額等於應付金額，則印出”不必找錢”。<br>\n",
    "實付金額大於應付金額，則輸出找回金額最少的鈔票數和錢幣數。<br>\n",
    "假設幣值只有1000, 500, 100元紙鈔和50, 10, 5, 1元硬幣。<br>\n",
    "說明：若買了132元的商品，付1000元，應找回一張500元，三張100元，一個50元硬幣，一個10元硬幣，一個5元硬幣和三個1元硬幣。"
   ]
  },
  {
   "cell_type": "code",
   "execution_count": null,
   "metadata": {},
   "outputs": [
    {
     "name": "stdout",
     "output_type": "stream",
     "text": [
      "請輸入應付金額：495\n",
      "請輸入實付金額：1000\n",
      "-*-*-*-*-*-*-*-*-*-*-*-*-*-*-*-*-\n",
      "應找回：\n",
      "1張500元\n",
      "1個5元硬幣\n",
      "請輸入應付金額：898\n",
      "請輸入實付金額：1000\n",
      "-*-*-*-*-*-*-*-*-*-*-*-*-*-*-*-*-\n",
      "應找回：\n",
      "1張100元\n",
      "2個1元硬幣\n",
      "請輸入應付金額：78\n",
      "請輸入實付金額：500\n",
      "-*-*-*-*-*-*-*-*-*-*-*-*-*-*-*-*-\n",
      "應找回：\n",
      "4張100元\n",
      "2個10元硬幣\n",
      "2個1元硬幣\n"
     ]
    }
   ],
   "source": [
    "# 完整版\n",
    "\n",
    "while True:\n",
    "    x = int(input('請輸入應付金額：'))\n",
    "    y = int(input('請輸入實付金額：'))\n",
    "    print('-*-*-*-*-*-*-*-*-*-*-*-*-*-*-*-*-')\n",
    "\n",
    "    if y < x :\n",
    "        print('金額不足')\n",
    "    elif y == x:\n",
    "        print('不必找錢')\n",
    "    else:\n",
    "        z = y-x\n",
    "        five_hundred = z // 500\n",
    "        one_hundred = (z%500) // 100\n",
    "        fifty = ((z%500)%100) // 50\n",
    "        ten = (((z%500)%100) % 50) // 10 \n",
    "        five = (((z%500)%100) % 50) % 10 // 5 \n",
    "        one = (((z%500)%100) % 50) % 10 % 5 \n",
    "        print('應找回：')\n",
    "        if five_hundred != 0:\n",
    "            print('{}張500元'.format(five_hundred))\n",
    "        if one_hundred != 0:\n",
    "            print('{}張100元'.format(one_hundred))\n",
    "        if fifty != 0:\n",
    "            print('{}個50元硬幣'.format(fifty))\n",
    "        if ten != 0:\n",
    "            print('{}個10元硬幣'.format(ten))     \n",
    "        if five != 0:\n",
    "            print('{}個5元硬幣'.format(five))\n",
    "        if one != 0:\n",
    "            print('{0}個1元硬幣'.format(one))"
   ]
  },
  {
   "cell_type": "code",
   "execution_count": null,
   "metadata": {},
   "outputs": [],
   "source": [
    "# 簡易版\n",
    "\n",
    "x = int(input('請輸入應付金額：'))\n",
    "y = int(input('請輸入實付金額：'))\n",
    "\n",
    "if y < x :\n",
    "    print('金額不足')\n",
    "elif y == x:\n",
    "    print('不必找錢')\n",
    "else:\n",
    "    z = y-x\n",
    "    five_hundred = z // 500\n",
    "    one_hundred = (z%500) // 100\n",
    "    fifty = ((z%500)%100) // 50\n",
    "    ten = (((z%500)%100) % 50) // 10 \n",
    "    five = (((z%500)%100) % 50) % 10 // 5 \n",
    "    one = (((z%500)%100) % 50) % 10 % 5 \n",
    "    print('應找回{0}張500元，{1}張100元，{2}個50元硬幣，{3}個10元硬幣，{4}個5元硬幣和{5}個1元硬幣'.format(five_hundred,\n",
    "                                                                              one_hundred,fifty,ten,five,one))\n",
    "                                "
   ]
  },
  {
   "cell_type": "code",
   "execution_count": 10,
   "metadata": {},
   "outputs": [
    {
     "name": "stdout",
     "output_type": "stream",
     "text": [
      "請輸入應付金額：592\n",
      "請輸入實付金額：1000\n",
      "應找回0張500元，4張100元，0個50元硬幣，0個10元硬幣，1個5元硬幣和3個1元硬幣\n"
     ]
    }
   ],
   "source": [
    "x = int(input('請輸入應付金額：'))\n",
    "y = int(input('請輸入實付金額：'))\n",
    "\n",
    "if y < x :\n",
    "    print('金額不足')\n",
    "elif y == x:\n",
    "    print('不必找錢')\n",
    "else:\n",
    "    z = y-x\n",
    "    five_hundred = z // 500\n",
    "    one_hundred = z % 500 // 100\n",
    "    fifty = z % 500 % 100 // 50\n",
    "    ten = z % 500 % 100 % 50 // 10            # 可以不必加()\n",
    "    five = z % 500 %100 % 50 % 10 // 5 \n",
    "    one = z % 500 % 100 % 50 % 10 % 5 \n",
    "    print('應找回{0}張500元，{1}張100元，{2}個50元硬幣，{3}個10元硬幣，{4}個5元硬幣和{5}個1元硬幣'.format(five_hundred,\n",
    "                                                                              one_hundred,fifty,ten,five,one))\n",
    "                                "
   ]
  },
  {
   "cell_type": "markdown",
   "metadata": {},
   "source": [
    "# 6. 選擇性敘述的練習-equation\n",
    "一元二次方程式ax2+bx+c=0。輸入a, b, c三值，並計算方程式的根。<br>\n",
    "b2-4ac > 0，有兩個不相等的實根。<br>\n",
    "b2-4ac = 0，有兩個相等的實根。<br>\n",
    "b2-4ac < 0，則印出”沒有實根”。"
   ]
  },
  {
   "cell_type": "code",
   "execution_count": null,
   "metadata": {},
   "outputs": [
    {
     "name": "stdout",
     "output_type": "stream",
     "text": [
      "請輸入a,b,c的值：1,1,-2\n",
      "有兩個不相等的實根:1&-2\n",
      "請輸入a,b,c的值：1,6,9\n",
      "有兩個相等的實根:-3\n",
      "請輸入a,b,c的值：1,1,2\n",
      "沒有實根\n"
     ]
    }
   ],
   "source": [
    "import math\n",
    "while True:\n",
    "    a,b,c = eval(input('請輸入a,b,c的值：'))\n",
    "    z = b**2 - 4*a*c\n",
    "    if z > 0:\n",
    "        x1 = int((-b + math.sqrt(z))/(2*a))\n",
    "        x2 = int((-b - z**(1/2))/(2*a))  # 另外一種開方的寫法\n",
    "        print('有兩個不相等的實根:{0}&{1}'.format(x1,x2))\n",
    "    elif z == 0:\n",
    "        x = int(-b /(2*a))\n",
    "        print('有兩個相等的實根:{0}'.format(x))\n",
    "    else:\n",
    "        print('沒有實根')"
   ]
  },
  {
   "cell_type": "code",
   "execution_count": null,
   "metadata": {},
   "outputs": [],
   "source": []
  },
  {
   "cell_type": "code",
   "execution_count": null,
   "metadata": {},
   "outputs": [],
   "source": []
  }
 ],
 "metadata": {
  "kernelspec": {
   "display_name": "Python 3",
   "language": "python",
   "name": "python3"
  },
  "language_info": {
   "codemirror_mode": {
    "name": "ipython",
    "version": 3
   },
   "file_extension": ".py",
   "mimetype": "text/x-python",
   "name": "python",
   "nbconvert_exporter": "python",
   "pygments_lexer": "ipython3",
   "version": "3.6.4"
  }
 },
 "nbformat": 4,
 "nbformat_minor": 2
}
